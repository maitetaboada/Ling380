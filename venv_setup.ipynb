{
 "cells": [
  {
   "cell_type": "markdown",
   "metadata": {},
   "source": [
    "# Course Environment Setup (LING-ENV)\n",
    "\n",
    "You’ll create a consistent Python environment so every notebook runs the same on everyone’s machine.  \n",
    "\n",
    "## Conda path\n",
    "\n",
    "### 1) Install\n",
    "- **Windows & Mac:** Install Anaconda.\n",
    "- After installation, open a new Terminal/Command Prompt.\n",
    "If conda isn’t recognized, run conda init zsh (macOS) or conda init cmd.exe (Windows), then reopen the terminal.\n"
   ]
  },
  {
   "cell_type": "markdown",
   "metadata": {},
   "source": [
    "### 2) Create and activate the environment\n",
    "Go to the virtual_environment folder (where environment.yml lives).\n",
    "\n",
    "If you use the Ling380 notebook, then this would be in the same place you save all Week notebooks. \n",
    "\n",
    "Note that the first command (`conda env create -f environment.yml`) may take a while to run, as all requirements are being installed. "
   ]
  },
  {
   "cell_type": "code",
   "execution_count": 13,
   "metadata": {},
   "outputs": [],
   "source": [
    "cd path\\to\\your\\virtual_environment_setup_directory # you need to revise the path\n",
    "\n",
    "# Create the environment:\n",
    "conda env create -f environment.yml\n",
    "\n",
    "# Activate the environment\n",
    "conda activate ling-env"
   ]
  },
  {
   "cell_type": "markdown",
   "metadata": {},
   "source": [
    "### 3) Download language resources"
   ]
  },
  {
   "cell_type": "code",
   "execution_count": null,
   "metadata": {},
   "outputs": [],
   "source": [
    "python -m spacy download en_core_web_sm\n",
    "\n",
    "python -c \"import nltk; nltk.download('punkt'); nltk.download('stopwords'); nltk.download('wordnet')\""
   ]
  },
  {
   "cell_type": "markdown",
   "metadata": {},
   "source": [
    "### 4) Register the Jupyter kernel"
   ]
  },
  {
   "cell_type": "code",
   "execution_count": null,
   "metadata": {},
   "outputs": [],
   "source": [
    "python -m ipykernel install --user --name ling-env --display-name \"Python (LING-ENV)\""
   ]
  },
  {
   "cell_type": "markdown",
   "metadata": {},
   "source": [
    "### 5) Launch Jupyter"
   ]
  },
  {
   "cell_type": "code",
   "execution_count": 21,
   "metadata": {},
   "outputs": [],
   "source": [
    "# Start JupyterLab or classic Notebook:\n",
    "jupyter lab\n",
    "# or\n",
    "jupyter notebook"
   ]
  },
  {
   "cell_type": "markdown",
   "metadata": {},
   "source": [
    "### 6) Switch Kernel\n",
    "In each notebook, choose Kernel → Change/Select Kernel → Python (LING-ENV).\n",
    "\n",
    "![change_kernal](img/switch_kernel.png)"
   ]
  },
  {
   "cell_type": "markdown",
   "metadata": {},
   "source": [
    "### 5) Quick verification\n",
    "Run the following code when you are in LING-ENV."
   ]
  },
  {
   "cell_type": "code",
   "execution_count": 8,
   "metadata": {},
   "outputs": [
    {
     "name": "stdout",
     "output_type": "stream",
     "text": [
      "Python: 3.11.13\n",
      "Env: base\n",
      "Kernel: /opt/anaconda3/envs/ling-env/bin/python\n",
      "numpy        1.26.4\n",
      "pandas       2.3.3\n",
      "sklearn      1.7.2\n",
      "matplotlib   3.10.6\n",
      "seaborn      0.13.2\n",
      "nltk         3.9.2\n",
      "spacy        3.8.7\n",
      "wordcloud    1.9.4\n",
      "tqdm         4.67.1\n",
      "regex        2.5.162\n",
      "ipykernel    6.30.1\n",
      "jupyterlab   4.4.9\n",
      "spaCy model: en_core_web_sm ✅\n",
      "NLTK data: punkt ✅\n",
      "NLTK data: stopwords ✅\n",
      "✅ Environment check passed.\n"
     ]
    }
   ],
   "source": [
    "import sys, os, importlib, spacy, nltk\n",
    "env = os.environ.get(\"CONDA_DEFAULT_ENV\") or os.path.basename(sys.prefix)\n",
    "print(\"Python:\", sys.version.split()[0])\n",
    "print(\"Env:\", env)\n",
    "print(\"Kernel:\", sys.executable)\n",
    "\n",
    "for name in (\"numpy\",\"pandas\",\"sklearn\",\"matplotlib\",\"seaborn\",\n",
    "             \"nltk\",\"spacy\",\"wordcloud\",\"tqdm\",\"regex\",\"ipykernel\",\"jupyterlab\"):\n",
    "    try:\n",
    "        m = importlib.import_module(name)\n",
    "        print(f\"{name:12s}\", getattr(m, \"__version__\", \"?\"))\n",
    "    except Exception as e:\n",
    "        raise SystemExit(f\"❌ Missing or broken package '{name}': {e}\")\n",
    "\n",
    "try:\n",
    "    spacy.load(\"en_core_web_sm\"); print(\"spaCy model: en_core_web_sm ✅\")\n",
    "except Exception as e:\n",
    "    raise SystemExit(f\"❌ Missing spaCy model: {e}\")\n",
    "\n",
    "for pkg, where in [(\"punkt\",\"tokenizers/punkt\"), (\"stopwords\",\"corpora/stopwords\")]:\n",
    "    try: nltk.data.find(where); print(f\"NLTK data: {pkg} ✅\")\n",
    "    except LookupError: raise SystemExit(f\"❌ Missing NLTK data '{pkg}'. See setup instructions.\")\n",
    "print(\"✅ Environment check passed.\")\n"
   ]
  }
 ],
 "metadata": {
  "kernelspec": {
   "display_name": "Python 3",
   "language": "python",
   "name": "python3"
  },
  "language_info": {
   "codemirror_mode": {
    "name": "ipython",
    "version": 3
   },
   "file_extension": ".py",
   "mimetype": "text/x-python",
   "name": "python",
   "nbconvert_exporter": "python",
   "pygments_lexer": "ipython3",
   "version": "3.8.5"
  }
 },
 "nbformat": 4,
 "nbformat_minor": 5
}
